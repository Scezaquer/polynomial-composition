{
 "cells": [
  {
   "cell_type": "code",
   "execution_count": 1,
   "id": "b5989531",
   "metadata": {},
   "outputs": [],
   "source": [
    "import numpy as np\n",
    "from math import factorial, comb\n",
    "from numpy import polynomial as Polynomial\n",
    "import matplotlib.pyplot as plt\n",
    "import time\n",
    "import random\n",
    "from polynomial_utils import compose, compose_layers, l2_norm, l2_coefficient_norm, plot_polynomials, carleman, carleman_matrix, l_inf_coefficient_norm\n",
    "from tqdm import tqdm\n",
    "from scipy.linalg import lstsq"
   ]
  },
  {
   "cell_type": "code",
   "execution_count": 2,
   "id": "841a2cca",
   "metadata": {},
   "outputs": [],
   "source": [
    "DTYPE = np.float64"
   ]
  },
  {
   "cell_type": "code",
   "execution_count": 3,
   "id": "398d611c",
   "metadata": {},
   "outputs": [],
   "source": [
    "def solve_for_h(g, target_poly):\n",
    "\n",
    "    target_deg = target_poly.degree()\n",
    "    g_deg = g.degree()\n",
    "    h_deg = target_deg / g_deg\n",
    "    if h_deg != int(h_deg):\n",
    "        raise ValueError(\"Degree of target poly should be a multiple of g degree\")\n",
    "    h_deg = int(h_deg)\n",
    "\n",
    "    h = Polynomial.Polynomial(np.array([0] * (h_deg + 1), dtype=DTYPE))\n",
    "    # For some fucking reason numpy can't take cube roots of negative numbers properly.\n",
    "    tmp = target_poly.coef[-1]/g.coef[-1]\n",
    "    is_neg = tmp < 0\n",
    "    h.coef[-1] = (abs(tmp))**(1/h_deg) * (-1 if is_neg else 1)\n",
    "    for it, id in enumerate(range(h_deg-1, 0, -1)):\n",
    "        # There is an affine relationship between the h we're looking for and\n",
    "        # the coefs we have. To compute the h_coef we're looking for, we need to\n",
    "        # isolate which part is linear in h_coef and which isn't. Setting\n",
    "        # h_coef = 0 gives us the offset and h_coef = 1 the total of offset + linear part.\n",
    "        h_pow1 = h**g_deg   \n",
    "        h.coef[id] = 1      \n",
    "        h_pow2 = h**g_deg\n",
    "\n",
    "        h.coef[id] = (target_poly.coef[-it - 2] - g.coef[-1]*h_pow1.coef[-it - 2]) / (g.coef[-1] * (h_pow2.coef[-it - 2] - h_pow1.coef[-it - 2]))\n",
    "    \n",
    "    # h0 has a slightly different formula\n",
    "    h_pow1 = h**g_deg\n",
    "    h_pow1 = h**g_deg   \n",
    "    h.coef[0] = 1\n",
    "    h_pow2 = h**g_deg\n",
    "    h.coef[0] = (target_poly.coef[-it - 3] - g.coef[-1]*h_pow1.coef[-it - 3] - g.coef[-2]*h.coef[-1]**(g_deg-1)) / (g.coef[-1] * (h_pow2.coef[-it - 3] - h_pow1.coef[-it - 3]))\n",
    "\n",
    "    return h"
   ]
  },
  {
   "cell_type": "code",
   "execution_count": 4,
   "id": "06aed728",
   "metadata": {},
   "outputs": [],
   "source": [
    "def new_poly(width, n1 = 4, n2 = 4):\n",
    "    g = Polynomial.Polynomial(np.random.uniform(-width, width, n1))\n",
    "    h = Polynomial.Polynomial(np.random.uniform(-width, width, n2))\n",
    "    h.coef = h.coef.astype(DTYPE)\n",
    "    g.coef = g.coef.astype(DTYPE)\n",
    "    target_poly = compose(g, h, dtype=DTYPE)\n",
    "    return g, h, target_poly"
   ]
  },
  {
   "cell_type": "code",
   "execution_count": 136,
   "id": "a27cb70d",
   "metadata": {},
   "outputs": [
    {
     "name": "stdout",
     "output_type": "stream",
     "text": [
      "6.825973074430641e-05\n",
      "11553473.620471954\n",
      "[6.82597307e-05 3.86511842e-05 1.84954418e-05 1.11523827e-06\n",
      " 1.41315881e-06 4.56090773e-07 1.04001408e-08 2.58094979e-08\n",
      " 6.07359574e-09 8.56625881e-11 1.82079352e-10 2.02027284e-11\n",
      " 6.29746255e-12 2.86770607e-12 6.09512441e-13 6.66133815e-14\n",
      " 2.22044605e-16 6.66133815e-16 0.00000000e+00 0.00000000e+00]\n"
     ]
    }
   ],
   "source": [
    "g, h, target_poly = new_poly(1, 20, 20)\n",
    "# print(f\"{g} (g)\")\n",
    "# print(f\"{h} (true h)\")\n",
    "h_bar = solve_for_h(g, target_poly)\n",
    "target_bar = compose(g, h_bar, dtype=DTYPE)\n",
    "# print(f\"{h_bar} (computed h)\")\n",
    "print(max(abs(h.coef - h_bar.coef)))\n",
    "print(max(abs(target_poly.coef - target_bar.coef)))\n",
    "\n",
    "# print(target_bar)\n",
    "# print(target_poly)\n",
    "\n",
    "print(abs(h.coef - h_bar.coef))"
   ]
  },
  {
   "cell_type": "code",
   "execution_count": 138,
   "id": "2e90c454",
   "metadata": {},
   "outputs": [
    {
     "name": "stdout",
     "output_type": "stream",
     "text": [
      "0.038168829872328065\n",
      "0.038237089603072566\n",
      "0.03823708960307237\n",
      "0.0\n"
     ]
    }
   ],
   "source": [
    "print(h_bar.coef[0])\n",
    "for j in range(10):\n",
    "    coef_pows = np.array([h_bar.coef[0] ** i for i in range(g.degree()+1)])\n",
    "    fxn = g.coef @ coef_pows - target_poly.coef[0]\n",
    "    deriv_coef_pows = np.array([i * h_bar.coef[0] ** (i-1) for i in range(g.degree()+1)])\n",
    "    fxn_prime = g.coef @ deriv_coef_pows\n",
    "    h_bar.coef[0] -= fxn / fxn_prime\n",
    "\n",
    "print(h_bar.coef[0] - fxn/fxn_prime)\n",
    "print(h.coef[0])\n",
    "print(abs(h_bar.coef[0] - h_bar.coef[0] - fxn/fxn_prime))"
   ]
  },
  {
   "cell_type": "code",
   "execution_count": 139,
   "id": "9f6881de",
   "metadata": {},
   "outputs": [
    {
     "name": "stdout",
     "output_type": "stream",
     "text": [
      "[ 1.11022302e-16  2.40801680e-05 -4.96786129e-06 -4.85268523e-06\n",
      "  5.15583919e-05  5.37117883e-05  1.34712623e-05 -2.37060988e-05\n",
      "  1.86916236e-05  1.63199082e-05 -2.89176489e-05 -8.71741787e-05\n",
      " -4.83985647e-05  2.54046342e-04  2.04103369e-05 -6.40704702e-04\n",
      " -2.10847649e-05  1.05734739e-03 -3.38557836e-05 -1.28262248e-03\n",
      "  6.47609327e-04  2.17843381e-03 -7.84296236e-04 -2.36987906e-03\n",
      "  5.66368939e-04  2.57975288e-03  4.04334119e-04 -5.99973530e-03\n",
      " -7.51225280e-03  8.80420528e-03  1.76529947e-02 -1.87241701e-02\n",
      " -3.44874381e-02  4.13201107e-02  5.84566173e-02 -8.49327854e-02\n",
      " -9.06587251e-02  1.68561149e-01  1.46692289e-01 -3.01211248e-01\n",
      " -2.21530473e-01  5.14163886e-01  3.10159506e-01 -8.73598963e-01\n",
      " -4.40220611e-01  1.45739105e+00  6.17297824e-01 -2.41310025e+00\n",
      " -8.52356326e-01  3.98324333e+00  1.19235883e+00 -6.47942675e+00\n",
      " -1.46555187e+00  1.07007733e+01  1.63572861e+00 -1.75394517e+01\n",
      " -1.26387603e+00  2.82921713e+01 -7.99849861e-01 -4.51363610e+01\n",
      "  6.08734334e+00  7.01250859e+01 -1.82784380e+01 -1.06799321e+02\n",
      "  4.16363093e+01  1.58054423e+02 -8.28010448e+01 -2.25828764e+02\n",
      "  1.52590747e+02  3.13249038e+02 -2.62620858e+02 -4.19752553e+02\n",
      "  4.30539951e+02  5.46389619e+02 -6.74873450e+02 -6.92531609e+02\n",
      "  1.01525054e+03  8.52160845e+02 -1.48247584e+03 -1.02816702e+03\n",
      "  2.10765329e+03  1.22086762e+03 -2.94161901e+03 -1.44131026e+03\n",
      "  4.05886370e+03  1.71494475e+03 -5.55479829e+03 -2.04594197e+03\n",
      "  7.60389225e+03  2.44645888e+03 -1.04376454e+04 -2.87438199e+03\n",
      "  1.43884639e+04  3.20381242e+03 -1.99190043e+04 -3.22517423e+03\n",
      "  2.75310261e+04  2.46129765e+03 -3.78700399e+04 -2.22249743e+02\n",
      "  5.15576458e+04 -4.54999280e+03 -6.91408682e+04  1.33774907e+04\n",
      "  9.10844003e+04 -2.80771352e+04 -1.17316789e+05  5.10857100e+04\n",
      "  1.47384926e+05 -8.50559662e+04 -1.79980756e+05  1.32882712e+05\n",
      "  2.12783343e+05 -1.97615535e+05 -2.42659815e+05  2.81613085e+05\n",
      "  2.64941660e+05 -3.86921839e+05 -2.74220739e+05  5.14195316e+05\n",
      "  2.63944356e+05 -6.62608195e+05 -2.26717362e+05  8.29786500e+05\n",
      "  1.55408194e+05 -1.01057080e+06 -4.26198991e+04  1.19809993e+06\n",
      " -1.17413064e+05 -1.38285199e+06  3.28861398e+05  1.55334036e+06\n",
      " -5.93724593e+05 -1.69713993e+06  9.10400561e+05  1.80041650e+06\n",
      " -1.27446026e+06 -1.84992393e+06  1.67748633e+06  1.83349044e+06\n",
      " -2.10715982e+06 -1.74057271e+06  2.54853474e+06  1.56447550e+06\n",
      " -2.98352694e+06 -1.30239944e+06  3.39236618e+06  9.55375528e+05\n",
      " -3.75646199e+06 -5.30942265e+05  4.05546103e+06  3.86377985e+04\n",
      " -4.27311767e+06  5.05230076e+05  4.39560268e+06 -1.08019138e+06\n",
      " -4.41216660e+06  1.66743773e+06  4.32233767e+06 -2.24024164e+06\n",
      " -4.12233930e+06  2.78005371e+06  3.82242469e+06 -3.26283209e+06\n",
      " -3.43301881e+06  3.66970087e+06  2.96600099e+06 -3.99034509e+06\n",
      " -2.44776868e+06  4.20391886e+06  1.89172774e+06 -4.31794976e+06\n",
      " -1.33105555e+06  4.32732413e+06  7.76443735e+05 -4.23871891e+06\n",
      " -2.44484688e+05  4.06096455e+06 -2.34080781e+05 -3.79409601e+06\n",
      "  6.58305167e+05  3.47767900e+06 -1.00106571e+06 -3.11022167e+06\n",
      "  1.27728111e+06  2.72191049e+06 -1.47675771e+06 -2.32625918e+06\n",
      "  1.60164151e+06  1.92407164e+06 -1.67310666e+06 -1.54397257e+06\n",
      "  1.66095678e+06  1.17453023e+06 -1.59927596e+06 -8.69356856e+05\n",
      "  1.48995785e+06  6.12423869e+05 -1.37494028e+06 -3.86020317e+05\n",
      "  1.25764430e+06  1.87288504e+05 -1.09614528e+06 -8.37782388e+03\n",
      "  9.21882865e+05 -8.33166474e+04 -7.39629348e+05  1.29611144e+05\n",
      "  6.20851579e+05 -1.58760181e+05 -5.28802673e+05  2.08589233e+05\n",
      "  4.12678637e+05 -2.49225571e+05 -2.92995271e+05  2.24163986e+05\n",
      "  1.86798453e+05 -1.95706764e+05 -1.32888880e+05  1.50532508e+05\n",
      "  8.59239289e+04 -1.09076842e+05 -9.17428443e+04  1.06159230e+05\n",
      "  1.04324240e+05 -1.69443508e+05 -1.55550532e+03  1.65989539e+05\n",
      " -1.27761001e+05  2.52026717e+04  5.92680867e+04 -1.22281485e+05\n",
      "  1.70286360e+05 -8.06491293e+04 -1.23630945e+05  2.68193509e+05\n",
      " -1.97999432e+05 -3.22778318e+04  2.34711954e+05 -2.82031314e+05\n",
      "  1.41431200e+05  9.23874893e+04 -2.88529104e+05  2.91275306e+05\n",
      " -9.44024073e+04 -1.80379265e+05  3.25459219e+05 -2.49935695e+05\n",
      "  7.90907132e+03  2.28204880e+05 -3.06839417e+05  1.83827287e+05\n",
      "  5.38461758e+04 -2.42282010e+05  2.64329989e+05 -1.11755905e+05\n",
      " -9.70325756e+04  2.27278590e+05 -1.98572878e+05  5.08567430e+04\n",
      "  1.13640209e+05 -1.86422031e+05  1.36054010e+05 -7.63690923e+03\n",
      " -1.07054932e+05  1.39687551e+05 -8.23054079e+04 -1.59187044e+04\n",
      "  8.76531344e+04 -9.48483870e+04  4.35228996e+04  2.34758178e+04\n",
      " -6.42830981e+04  5.84297763e+04 -1.99800609e+04 -2.25146315e+04\n",
      "  4.21718735e+04 -3.32652885e+04  6.89562398e+03  1.69752644e+04\n",
      " -2.54473987e+04  1.71682580e+04 -1.28962303e+03 -1.11712755e+04\n",
      "  1.39909927e+04 -8.12706656e+03 -5.93619861e+02  6.53789002e+03\n",
      " -7.03746628e+03  3.55711623e+03  8.81961437e+02 -3.38814793e+03\n",
      "  3.29690807e+03 -1.39095648e+03 -5.92400910e+02  1.62033032e+03\n",
      " -1.38935471e+03  5.21149301e+02  3.35690416e+02 -6.84208439e+02\n",
      "  5.56001770e+02 -1.73582340e+02 -1.42769833e+02  2.66431568e+02\n",
      " -1.97067354e+02  5.79360996e+01  5.60496041e+01 -9.12218500e+01\n",
      "  6.64623671e+01 -1.79377030e+01 -1.72269176e+01  2.84464252e+01\n",
      " -2.01474454e+01  6.23160870e+00  4.08336235e+00 -7.14139435e+00\n",
      "  5.19479578e+00 -1.59530650e+00 -9.79352378e-01  1.85999839e+00\n",
      " -1.48260063e+00  7.11298779e-01 -1.00612736e-01 -1.61185954e-01\n",
      "  1.66833459e-01 -6.80309146e-02 -2.22027154e-02  6.54518730e-02\n",
      " -6.76018194e-02  5.03129021e-02 -3.02997976e-02  1.54268304e-02\n",
      " -6.72591121e-03  2.51965794e-03 -7.99544816e-04  2.09359719e-04\n",
      " -4.16974526e-05  4.87660145e-06  4.45164915e-07 -3.96616088e-07\n",
      "  1.16084038e-07 -1.91601828e-08  2.00856221e-09 -2.84217094e-14\n",
      " -2.13162821e-14  0.00000000e+00 -2.84217094e-14 -2.84217094e-14\n",
      "  0.00000000e+00  0.00000000e+00 -7.10542736e-15  0.00000000e+00\n",
      "  0.00000000e+00  2.22044605e-16  5.55111512e-17  0.00000000e+00\n",
      "  6.93889390e-18 -1.73472348e-18  2.16840434e-19 -2.71050543e-20\n",
      "  0.00000000e+00  0.00000000e+00]\n",
      "0.0\n"
     ]
    }
   ],
   "source": [
    "target_bar = compose(g, h_bar, dtype=DTYPE)\n",
    "print(target_poly.coef - target_bar.coef)\n",
    "print(g.coef[-1] * h_bar.coef[-1]**19 - target_poly.coef[-1])"
   ]
  },
  {
   "cell_type": "code",
   "execution_count": 7,
   "id": "7c294eb3",
   "metadata": {},
   "outputs": [
    {
     "name": "stderr",
     "output_type": "stream",
     "text": [
      "/tmp/ipykernel_3278/98128557.py:24: RuntimeWarning: divide by zero encountered in scalar divide\n",
      "  h.coef[id] = (target_poly.coef[-it - 2] - g.coef[-1]*h_pow1.coef[-it - 2]) / (g.coef[-1] * (h_pow2.coef[-it - 2] - h_pow1.coef[-it - 2]))\n",
      "/tmp/ipykernel_3278/98128557.py:24: RuntimeWarning: invalid value encountered in scalar subtract\n",
      "  h.coef[id] = (target_poly.coef[-it - 2] - g.coef[-1]*h_pow1.coef[-it - 2]) / (g.coef[-1] * (h_pow2.coef[-it - 2] - h_pow1.coef[-it - 2]))\n",
      "/tmp/ipykernel_3278/98128557.py:31: RuntimeWarning: divide by zero encountered in scalar divide\n",
      "  h.coef[0] = (target_poly.coef[-it - 3] - g.coef[-1]*h_pow1.coef[-it - 3] - g.coef[-2]*h.coef[-1]**(g_deg-1)) / (g.coef[-1] * (h_pow2.coef[-it - 3] - h_pow1.coef[-it - 3]))\n",
      "/tmp/ipykernel_3278/98128557.py:31: RuntimeWarning: invalid value encountered in scalar subtract\n",
      "  h.coef[0] = (target_poly.coef[-it - 3] - g.coef[-1]*h_pow1.coef[-it - 3] - g.coef[-2]*h.coef[-1]**(g_deg-1)) / (g.coef[-1] * (h_pow2.coef[-it - 3] - h_pow1.coef[-it - 3]))\n"
     ]
    },
    {
     "name": "stdout",
     "output_type": "stream",
     "text": [
      "Max: 3.382673646212123e+39\n",
      "Avg: 3.410015406987034e+36\n",
      "Std: 1.073458469997168e+38\n",
      "Med: 2.6670477382140234e-08\n"
     ]
    }
   ],
   "source": [
    "errors = []\n",
    "for i in range(1000):\n",
    "    g, h, target_poly = new_poly(1, 10, 10)\n",
    "    # print(f\"{g} (g)\")\n",
    "    # print(f\"{h} (true h)\")\n",
    "    h_bar = solve_for_h(g, target_poly)\n",
    "    target_bar = compose(g, h_bar, dtype=DTYPE)\n",
    "    # print(f\"{h_bar} (computed h)\")\n",
    "    # err = max(abs(h.coef - h_bar.coef))\n",
    "    err = max(abs(target_poly.coef - target_bar.coef))\n",
    "    # print(err)\n",
    "    if np.isinf(err) or np.isnan(err):\n",
    "        continue\n",
    "    errors.append(err)\n",
    "\n",
    "print(f\"Max: {max(errors)}\")\n",
    "print(f\"Avg: {sum(errors) / len(errors)}\")\n",
    "print(f\"Std: {np.std(errors)}\")\n",
    "print(f\"Med: {np.median(errors)}\")"
   ]
  },
  {
   "cell_type": "code",
   "execution_count": null,
   "id": "6fa03401",
   "metadata": {},
   "outputs": [],
   "source": []
  }
 ],
 "metadata": {
  "kernelspec": {
   "display_name": "polycomp",
   "language": "python",
   "name": "python3"
  },
  "language_info": {
   "codemirror_mode": {
    "name": "ipython",
    "version": 3
   },
   "file_extension": ".py",
   "mimetype": "text/x-python",
   "name": "python",
   "nbconvert_exporter": "python",
   "pygments_lexer": "ipython3",
   "version": "3.12.7"
  }
 },
 "nbformat": 4,
 "nbformat_minor": 5
}
