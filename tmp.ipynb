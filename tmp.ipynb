{
 "cells": [
  {
   "cell_type": "code",
   "execution_count": 1,
   "id": "7d761970",
   "metadata": {},
   "outputs": [],
   "source": [
    "import numpy as np\n",
    "from numpy import polynomial as Polynomial\n",
    "from polynomial_utils import compose, compose_layers, l2_norm, l2_coefficient_norm, plot_polynomials, carleman, carleman_matrix, l_inf_coefficient_norm"
   ]
  },
  {
   "cell_type": "code",
   "execution_count": null,
   "id": "1823b27e",
   "metadata": {},
   "outputs": [],
   "source": [
    "DEG = 3"
   ]
  },
  {
   "cell_type": "code",
   "execution_count": 3,
   "id": "ea1a426c",
   "metadata": {},
   "outputs": [],
   "source": [
    "def new_poly(width):\n",
    "    p1 = Polynomial.Polynomial(np.random.uniform(-width, width, DEG+1))\n",
    "    p2 = Polynomial.Polynomial(np.random.uniform(-width, width, DEG+1))\n",
    "    p2.coef[0] = 0\n",
    "    # for i in range(DEG//2):\n",
    "    #     p2.coef[i+1] = 0\n",
    "\n",
    "    target_poly = compose(p1, p2)\n",
    "\n",
    "    return p1, p2, target_poly\n",
    "\n",
    "def candidate_g_h():\n",
    "    # Generate random coefficients for g and h\n",
    "    g = Polynomial.Polynomial(np.zeros(DEG+1))\n",
    "    h = Polynomial.Polynomial(np.random.uniform(-0.5, 0.5, DEG+1))\n",
    "    return g, h"
   ]
  },
  {
   "cell_type": "code",
   "execution_count": 4,
   "id": "4e5785e5",
   "metadata": {},
   "outputs": [],
   "source": [
    "p1, p2, target_poly = new_poly(0.5)\n",
    "g = p1"
   ]
  },
  {
   "cell_type": "code",
   "execution_count": 5,
   "id": "d1d14caa",
   "metadata": {},
   "outputs": [
    {
     "name": "stdout",
     "output_type": "stream",
     "text": [
      "0.0 - 0.00047047·x - 0.02659537·x² + 0.3005339·x³ - 0.32367339·x⁴ -\n",
      "0.46226445·x⁵ + 0.35217833·x⁶ + 0.30687326·x⁷ - 0.36362099·x⁸ +\n",
      "0.0258347·x⁹ - 0.38732701·x¹⁰ + 0.32168541·x¹¹ + 0.11806872·x¹² +\n",
      "0.42498903·x¹³ + 0.18411357·x¹⁴ - 0.26338567·x¹⁵\n",
      "0.0 - 0.00047047·x - 0.02659537·x² + 0.3005339·x³ - 0.32367339·x⁴ -\n",
      "0.46226445·x⁵ + 0.35217833·x⁶ + 0.30687326·x⁷ - 0.36362099·x⁸ +\n",
      "0.0258347·x⁹ - 0.38732701·x¹⁰ + 0.32168541·x¹¹ + 0.11806872·x¹² +\n",
      "0.42498903·x¹³ + 0.18411357·x¹⁴ - 0.26338567·x¹⁵\n",
      "9.992007221626409e-16\n"
     ]
    }
   ],
   "source": [
    "h = Polynomial.Polynomial([0])\n",
    "for i in range(DEG):\n",
    "    h_powers = [h ** j for j in range(i+2)]\n",
    "    mh_row = np.array(\n",
    "        [h_powers[j].coef[i+1] if h_powers[j].coef.size > i+1 else 0 for j in range(2, i+2)])\n",
    "    hi = (target_poly.coef[i+1] - g.coef[2:2+min(i, len(mh_row))] @ mh_row[:min(\n",
    "        len(mh_row), len(g.coef[2:2+min(i, len(mh_row))]))]) / g.coef[1]\n",
    "    h = Polynomial.Polynomial(list(h.coef) + [hi])\n",
    "\n",
    "print(h)\n",
    "print(p2)\n",
    "print(l_inf_coefficient_norm(h, p2))"
   ]
  },
  {
   "cell_type": "code",
   "execution_count": 6,
   "id": "7dd09461",
   "metadata": {},
   "outputs": [
    {
     "data": {
      "text/latex": [
       "$x \\mapsto \\color{LightGray}{\\text{0.0}}\\color{LightGray}{ + \\text{0.0}\\,x} - \\text{(3.46944695e-18)}\\,x^{2}\\color{LightGray}{ + \\text{0.0}\\,x^{3}}\\color{LightGray}{ + \\text{0.0}\\,x^{4}} - \\text{(5.55111512e-17)}\\,x^{5} + \\text{(5.55111512e-17)}\\,x^{6}\\color{LightGray}{ + \\text{0.0}\\,x^{7}}\\color{LightGray}{ + \\text{0.0}\\,x^{8}} - \\text{(3.01841885e-16)}\\,x^{9} + \\text{(1.11022302e-16)}\\,x^{10} - \\text{(3.88578059e-16)}\\,x^{11} + \\text{(4.85722573e-16)}\\,x^{12} - \\text{(5.55111512e-16)}\\,x^{13} - \\text{(1.11022302e-16)}\\,x^{14} - \\text{(9.99200722e-16)}\\,x^{15}$"
      ],
      "text/plain": [
       "Polynomial([ 0.00000000e+00,  0.00000000e+00, -3.46944695e-18,  0.00000000e+00,\n",
       "        0.00000000e+00, -5.55111512e-17,  5.55111512e-17,  0.00000000e+00,\n",
       "        0.00000000e+00, -3.01841885e-16,  1.11022302e-16, -3.88578059e-16,\n",
       "        4.85722573e-16, -5.55111512e-16, -1.11022302e-16, -9.99200722e-16], domain=[-1.,  1.], window=[-1.,  1.], symbol='x')"
      ]
     },
     "execution_count": 6,
     "metadata": {},
     "output_type": "execute_result"
    }
   ],
   "source": [
    "h - p2"
   ]
  }
 ],
 "metadata": {
  "kernelspec": {
   "display_name": "polycomp",
   "language": "python",
   "name": "python3"
  },
  "language_info": {
   "codemirror_mode": {
    "name": "ipython",
    "version": 3
   },
   "file_extension": ".py",
   "mimetype": "text/x-python",
   "name": "python",
   "nbconvert_exporter": "python",
   "pygments_lexer": "ipython3",
   "version": "3.12.7"
  }
 },
 "nbformat": 4,
 "nbformat_minor": 5
}
